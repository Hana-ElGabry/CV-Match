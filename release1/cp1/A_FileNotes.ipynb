{
 "cells": [
  {
   "cell_type": "markdown",
   "metadata": {},
   "source": [
    "## Notes on option 3\n",
    "\n",
    "- when making the templates folder we will have to go to settings and tell Django that we did that \n",
    ">>>         'DIRS': ['templates'],\n",
    "\n",
    "-we need to register app into projects settings \n",
    "\n",
    "by specifying the name inside installed apps inside settings.py\n",
    "\n",
    "ff"
   ]
  },
  {
   "cell_type": "markdown",
   "metadata": {},
   "source": [
    "### next step is that we need to set static files in the settings \n",
    "\n",
    "side note: we need to import os at the start of the fil \n",
    "\n",
    "These lines of code in your settings.py file are configuring the static files settings for your Django project.\n",
    "\n",
    ">Static_Root = os.path.join(BASE_DIR, 'staticfiles'):\n",
    "\n",
    "This line is creating a path to a directory named staticfiles within your project's base directory (BASE_DIR).\n",
    "\n",
    ">STATICFILES_DIRS = [os.path.join(BASE_DIR, 'static')]:\n",
    "\n",
    "This line is defining a list of directories where Django will look for additional static files. Here, it is adding a directory named static within your project's base directory.\n"
   ]
  },
  {
   "cell_type": "markdown",
   "metadata": {},
   "source": [
    "### make this imports in the views.py file inside core\n",
    "    \n",
    "    from django.shortcuts import render, redirect\n",
    "    from django.contrib.auth.models import User\n",
    "    from django.contrib.auth import authenticate, login, logout\n",
    "    from django.contrib.auth.decorators import login_required\n",
    "    from django.contrib import messages\n",
    "    from django.conf import settings\n",
    "    from django.core.mail import EmailMessage\n",
    "    from django.utils import timezone\n",
    "    from django.urls import reverse\n",
    "    from .models import *"
   ]
  },
  {
   "cell_type": "markdown",
   "metadata": {},
   "source": []
  }
 ],
 "metadata": {
  "language_info": {
   "name": "python"
  }
 },
 "nbformat": 4,
 "nbformat_minor": 2
}
